{
 "cells": [
  {
   "cell_type": "code",
   "execution_count": 1,
   "metadata": {},
   "outputs": [],
   "source": [
    "from top2vec import Top2Vec"
   ]
  },
  {
   "cell_type": "code",
   "execution_count": 2,
   "metadata": {},
   "outputs": [],
   "source": [
    "import numpy as np\n",
    "import os\n",
    "import tweepy as tw #python twitter api\n",
    "import pandas as pd\n",
    "import sys\n",
    "import csv\n",
    "import re #regular expression\n",
    "import networkx #Network of words analysis\n",
    "import itertools\n",
    "import collections\n",
    "import matplotlib.pyplot as plt #plots\n",
    "import nltk #library for sentiment analysis\n",
    "from nltk.corpus import stopwords\n",
    "from nltk import bigrams\n",
    "import networkx as nx\n",
    "import textblob #open source library for sent analysis\n",
    "from vaderSentiment.vaderSentiment import SentimentIntensityAnalyzer "
   ]
  },
  {
   "cell_type": "code",
   "execution_count": 3,
   "metadata": {},
   "outputs": [],
   "source": [
    "consumer_key= 'pYu8JgUr0E2Dop6o70YDdcuhy'\n",
    "consumer_secret= 'DmH0lfjYQUDwLuvAtawBpUjMYrgPkHhMrp89f05sfP4ZkEv50C'\n",
    "access_token= '1109512227269173248-OnDVlJg4PrCxoTSVCbV5mkZFhnEAA6'\n",
    "access_token_secret= 'oDdfNcSZlyqJubedRQQ4tF3IF4rQwBEhsBzMGtQqrPw05'"
   ]
  },
  {
   "cell_type": "code",
   "execution_count": 4,
   "metadata": {},
   "outputs": [],
   "source": [
    "auth = tw.OAuthHandler(consumer_key, consumer_secret)\n",
    "auth.set_access_token(access_token, access_token_secret)\n",
    "api = tw.API(auth, wait_on_rate_limit=True)"
   ]
  },
  {
   "cell_type": "code",
   "execution_count": 5,
   "metadata": {},
   "outputs": [
    {
     "name": "stdout",
     "output_type": "stream",
     "text": [
      "getting tweets before 1272342912425025535\n",
      "...400 tweets downloaded so far\n",
      "getting tweets before 1254325433727774720\n",
      "...600 tweets downloaded so far\n",
      "getting tweets before 1252605075475664895\n",
      "...800 tweets downloaded so far\n",
      "getting tweets before 1250426410524495879\n",
      "...1000 tweets downloaded so far\n",
      "getting tweets before 1226990109184032767\n",
      "...1200 tweets downloaded so far\n",
      "getting tweets before 1181971975633342463\n",
      "...1400 tweets downloaded so far\n",
      "getting tweets before 1114304553799655423\n",
      "...1600 tweets downloaded so far\n",
      "getting tweets before 1075189074623754239\n",
      "...1800 tweets downloaded so far\n",
      "getting tweets before 1035665007281721344\n",
      "...2000 tweets downloaded so far\n",
      "getting tweets before 1002950473912143877\n",
      "...2200 tweets downloaded so far\n",
      "getting tweets before 971766999285055487\n",
      "...2400 tweets downloaded so far\n",
      "getting tweets before 944379729041346559\n",
      "...2600 tweets downloaded so far\n",
      "getting tweets before 918191651520102399\n",
      "...2800 tweets downloaded so far\n",
      "getting tweets before 872502613756919808\n",
      "...3000 tweets downloaded so far\n",
      "getting tweets before 846863225002119167\n",
      "...3200 tweets downloaded so far\n",
      "getting tweets before 814486147221114884\n",
      "...3242 tweets downloaded so far\n",
      "getting tweets before 806641189034278914\n",
      "...3242 tweets downloaded so far\n"
     ]
    }
   ],
   "source": [
    "def get_all_tweets(screen_name):\n",
    "    #Twitter only allows access to a users most recent 3250 tweets with this method\n",
    "    \n",
    "    #authorize twitter, initialize tweepy\n",
    "    auth = tw.OAuthHandler(consumer_key, consumer_secret)\n",
    "    auth.set_access_token(access_token, access_token_secret)\n",
    "    api = tw.API(auth)\n",
    "    \n",
    "    \n",
    "    #initialize a list to hold all the tweepy Tweets\n",
    "    alltweets = []  \n",
    "    \n",
    "    #make initial request for most recent tweets (200 is the maximum allowed count)\n",
    "    new_tweets = api.user_timeline(screen_name = screen_name,count=200)\n",
    "    \n",
    "    #save most recent tweets\n",
    "    alltweets.extend(new_tweets)\n",
    "    \n",
    "    #save the id of the oldest tweet less one\n",
    "    oldest = alltweets[-1].id - 1\n",
    "    \n",
    "    #keep grabbing tweets until there are no tweets left to grab\n",
    "    while len(new_tweets) > 0:\n",
    "        print(f\"getting tweets before {oldest}\")\n",
    "        \n",
    "        #all subsiquent requests use the max_id param to prevent duplicates\n",
    "        new_tweets = api.user_timeline(screen_name = screen_name,count=200,max_id=oldest)\n",
    "        \n",
    "        #save most recent tweets\n",
    "        alltweets.extend(new_tweets)\n",
    "        \n",
    "        #update the id of the oldest tweet less one\n",
    "        oldest = alltweets[-1].id - 1\n",
    "        \n",
    "        print(f\"...{len(alltweets)} tweets downloaded so far\")\n",
    "    \n",
    "    #transform the tweepy tweets into a 2D array that will populate the csv \n",
    "    outtweets = [[tweet.id_str, tweet.created_at, tweet.text, tweet.favorite_count, tweet.retweet_count] for tweet in alltweets]\n",
    "    \n",
    "    #write the csv  \n",
    "    with open(f'/users/mayurbansal/desktop/new_{screen_name}_tweets.csv', 'w') as f:\n",
    "        writer = csv.writer(f)\n",
    "        writer.writerow([\"id\",\"created_at\",\"text\",\"favoritecount\",\"retweetcount\"])\n",
    "        writer.writerows(outtweets)\n",
    "    \n",
    "    pass\n",
    "\n",
    "\n",
    "if __name__ == '__main__':\n",
    "\t#pass in the username of the account you want to download\n",
    "\tget_all_tweets(\"fitbit\")"
   ]
  },
  {
   "cell_type": "code",
   "execution_count": 6,
   "metadata": {},
   "outputs": [],
   "source": [
    "twitterdata=pd.read_csv('/users/mayurbansal/desktop/new_fitbit_tweets.csv')"
   ]
  },
  {
   "cell_type": "code",
   "execution_count": 7,
   "metadata": {},
   "outputs": [
    {
     "data": {
      "text/html": [
       "<div>\n",
       "<style scoped>\n",
       "    .dataframe tbody tr th:only-of-type {\n",
       "        vertical-align: middle;\n",
       "    }\n",
       "\n",
       "    .dataframe tbody tr th {\n",
       "        vertical-align: top;\n",
       "    }\n",
       "\n",
       "    .dataframe thead th {\n",
       "        text-align: right;\n",
       "    }\n",
       "</style>\n",
       "<table border=\"1\" class=\"dataframe\">\n",
       "  <thead>\n",
       "    <tr style=\"text-align: right;\">\n",
       "      <th></th>\n",
       "      <th>id</th>\n",
       "      <th>created_at</th>\n",
       "      <th>text</th>\n",
       "      <th>favoritecount</th>\n",
       "      <th>retweetcount</th>\n",
       "    </tr>\n",
       "  </thead>\n",
       "  <tbody>\n",
       "    <tr>\n",
       "      <th>0</th>\n",
       "      <td>1300151721415462913</td>\n",
       "      <td>2020-08-30 19:21:40</td>\n",
       "      <td>@mr_brejoc Hi. We appreciate your interest and...</td>\n",
       "      <td>0</td>\n",
       "      <td>0</td>\n",
       "    </tr>\n",
       "    <tr>\n",
       "      <th>1</th>\n",
       "      <td>1300051885638873088</td>\n",
       "      <td>2020-08-30 12:44:57</td>\n",
       "      <td>@ollyvale Hi, Olly. Sorry to hear about this. ...</td>\n",
       "      <td>0</td>\n",
       "      <td>0</td>\n",
       "    </tr>\n",
       "    <tr>\n",
       "      <th>2</th>\n",
       "      <td>1299958125747822593</td>\n",
       "      <td>2020-08-30 06:32:23</td>\n",
       "      <td>@KittyL96 Hey, @KittyL96. We're constantly str...</td>\n",
       "      <td>0</td>\n",
       "      <td>0</td>\n",
       "    </tr>\n",
       "    <tr>\n",
       "      <th>3</th>\n",
       "      <td>1299767444131573761</td>\n",
       "      <td>2020-08-29 17:54:41</td>\n",
       "      <td>@redranger36 Hey, @redranger36. Glad to hear y...</td>\n",
       "      <td>0</td>\n",
       "      <td>0</td>\n",
       "    </tr>\n",
       "    <tr>\n",
       "      <th>4</th>\n",
       "      <td>1299686284907094016</td>\n",
       "      <td>2020-08-29 12:32:11</td>\n",
       "      <td>@Haituga 1/2 Unser Team für Produktentwicklung...</td>\n",
       "      <td>0</td>\n",
       "      <td>0</td>\n",
       "    </tr>\n",
       "    <tr>\n",
       "      <th>...</th>\n",
       "      <td>...</td>\n",
       "      <td>...</td>\n",
       "      <td>...</td>\n",
       "      <td>...</td>\n",
       "      <td>...</td>\n",
       "    </tr>\n",
       "    <tr>\n",
       "      <th>3237</th>\n",
       "      <td>807303556646703106</td>\n",
       "      <td>2016-12-09 19:19:01</td>\n",
       "      <td>Make your #FitbitFlex2 smarter with this free ...</td>\n",
       "      <td>34</td>\n",
       "      <td>29</td>\n",
       "    </tr>\n",
       "    <tr>\n",
       "      <th>3238</th>\n",
       "      <td>807035649651937280</td>\n",
       "      <td>2016-12-09 01:34:27</td>\n",
       "      <td>We're proud to partner with @MDT_Diabetes, to ...</td>\n",
       "      <td>113</td>\n",
       "      <td>63</td>\n",
       "    </tr>\n",
       "    <tr>\n",
       "      <th>3239</th>\n",
       "      <td>806883543402106880</td>\n",
       "      <td>2016-12-08 15:30:02</td>\n",
       "      <td>Build your balance and sculpt strong and sleek...</td>\n",
       "      <td>86</td>\n",
       "      <td>40</td>\n",
       "    </tr>\n",
       "    <tr>\n",
       "      <th>3240</th>\n",
       "      <td>806660860407988224</td>\n",
       "      <td>2016-12-08 00:45:10</td>\n",
       "      <td>RT @MensFitness: Meet your next-level fitness ...</td>\n",
       "      <td>0</td>\n",
       "      <td>28</td>\n",
       "    </tr>\n",
       "    <tr>\n",
       "      <th>3241</th>\n",
       "      <td>806641189034278915</td>\n",
       "      <td>2016-12-07 23:27:00</td>\n",
       "      <td>Welcoming Pebble to the Fitbit family, we’re e...</td>\n",
       "      <td>215</td>\n",
       "      <td>116</td>\n",
       "    </tr>\n",
       "  </tbody>\n",
       "</table>\n",
       "<p>3242 rows × 5 columns</p>\n",
       "</div>"
      ],
      "text/plain": [
       "                       id           created_at  \\\n",
       "0     1300151721415462913  2020-08-30 19:21:40   \n",
       "1     1300051885638873088  2020-08-30 12:44:57   \n",
       "2     1299958125747822593  2020-08-30 06:32:23   \n",
       "3     1299767444131573761  2020-08-29 17:54:41   \n",
       "4     1299686284907094016  2020-08-29 12:32:11   \n",
       "...                   ...                  ...   \n",
       "3237   807303556646703106  2016-12-09 19:19:01   \n",
       "3238   807035649651937280  2016-12-09 01:34:27   \n",
       "3239   806883543402106880  2016-12-08 15:30:02   \n",
       "3240   806660860407988224  2016-12-08 00:45:10   \n",
       "3241   806641189034278915  2016-12-07 23:27:00   \n",
       "\n",
       "                                                   text  favoritecount  \\\n",
       "0     @mr_brejoc Hi. We appreciate your interest and...              0   \n",
       "1     @ollyvale Hi, Olly. Sorry to hear about this. ...              0   \n",
       "2     @KittyL96 Hey, @KittyL96. We're constantly str...              0   \n",
       "3     @redranger36 Hey, @redranger36. Glad to hear y...              0   \n",
       "4     @Haituga 1/2 Unser Team für Produktentwicklung...              0   \n",
       "...                                                 ...            ...   \n",
       "3237  Make your #FitbitFlex2 smarter with this free ...             34   \n",
       "3238  We're proud to partner with @MDT_Diabetes, to ...            113   \n",
       "3239  Build your balance and sculpt strong and sleek...             86   \n",
       "3240  RT @MensFitness: Meet your next-level fitness ...              0   \n",
       "3241  Welcoming Pebble to the Fitbit family, we’re e...            215   \n",
       "\n",
       "      retweetcount  \n",
       "0                0  \n",
       "1                0  \n",
       "2                0  \n",
       "3                0  \n",
       "4                0  \n",
       "...            ...  \n",
       "3237            29  \n",
       "3238            63  \n",
       "3239            40  \n",
       "3240            28  \n",
       "3241           116  \n",
       "\n",
       "[3242 rows x 5 columns]"
      ]
     },
     "execution_count": 7,
     "metadata": {},
     "output_type": "execute_result"
    }
   ],
   "source": [
    "twitterdata"
   ]
  },
  {
   "cell_type": "code",
   "execution_count": 8,
   "metadata": {},
   "outputs": [
    {
     "data": {
      "text/html": [
       "<div>\n",
       "<style scoped>\n",
       "    .dataframe tbody tr th:only-of-type {\n",
       "        vertical-align: middle;\n",
       "    }\n",
       "\n",
       "    .dataframe tbody tr th {\n",
       "        vertical-align: top;\n",
       "    }\n",
       "\n",
       "    .dataframe thead th {\n",
       "        text-align: right;\n",
       "    }\n",
       "</style>\n",
       "<table border=\"1\" class=\"dataframe\">\n",
       "  <thead>\n",
       "    <tr style=\"text-align: right;\">\n",
       "      <th></th>\n",
       "      <th>id</th>\n",
       "      <th>created_at</th>\n",
       "      <th>text</th>\n",
       "      <th>favoritecount</th>\n",
       "      <th>retweetcount</th>\n",
       "    </tr>\n",
       "  </thead>\n",
       "  <tbody>\n",
       "    <tr>\n",
       "      <th>8</th>\n",
       "      <td>1299456992872820736</td>\n",
       "      <td>2020-08-28 21:21:04</td>\n",
       "      <td>RT @WebMD: WebMD Chief Medical Officer @drjohn...</td>\n",
       "      <td>0</td>\n",
       "      <td>5</td>\n",
       "    </tr>\n",
       "    <tr>\n",
       "      <th>9</th>\n",
       "      <td>1299443470260744192</td>\n",
       "      <td>2020-08-28 20:27:20</td>\n",
       "      <td>Stress affects us all, but why exactly do we f...</td>\n",
       "      <td>25</td>\n",
       "      <td>8</td>\n",
       "    </tr>\n",
       "    <tr>\n",
       "      <th>10</th>\n",
       "      <td>1299410712276725763</td>\n",
       "      <td>2020-08-28 18:17:10</td>\n",
       "      <td>Camo. Rainbow. Coral. Charcoal. All made with ...</td>\n",
       "      <td>42</td>\n",
       "      <td>8</td>\n",
       "    </tr>\n",
       "    <tr>\n",
       "      <th>22</th>\n",
       "      <td>1298736934450106368</td>\n",
       "      <td>2020-08-26 21:39:49</td>\n",
       "      <td>And the award for best press reaction goes to....</td>\n",
       "      <td>108</td>\n",
       "      <td>12</td>\n",
       "    </tr>\n",
       "    <tr>\n",
       "      <th>24</th>\n",
       "      <td>1298666150830542848</td>\n",
       "      <td>2020-08-26 16:58:33</td>\n",
       "      <td>✅ Pace\\n✅ Distance\\n✅ Heart Rate\\n❌ Phone\\n\\nL...</td>\n",
       "      <td>60</td>\n",
       "      <td>16</td>\n",
       "    </tr>\n",
       "  </tbody>\n",
       "</table>\n",
       "</div>"
      ],
      "text/plain": [
       "                     id           created_at  \\\n",
       "8   1299456992872820736  2020-08-28 21:21:04   \n",
       "9   1299443470260744192  2020-08-28 20:27:20   \n",
       "10  1299410712276725763  2020-08-28 18:17:10   \n",
       "22  1298736934450106368  2020-08-26 21:39:49   \n",
       "24  1298666150830542848  2020-08-26 16:58:33   \n",
       "\n",
       "                                                 text  favoritecount  \\\n",
       "8   RT @WebMD: WebMD Chief Medical Officer @drjohn...              0   \n",
       "9   Stress affects us all, but why exactly do we f...             25   \n",
       "10  Camo. Rainbow. Coral. Charcoal. All made with ...             42   \n",
       "22  And the award for best press reaction goes to....            108   \n",
       "24  ✅ Pace\\n✅ Distance\\n✅ Heart Rate\\n❌ Phone\\n\\nL...             60   \n",
       "\n",
       "    retweetcount  \n",
       "8              5  \n",
       "9              8  \n",
       "10             8  \n",
       "22            12  \n",
       "24            16  "
      ]
     },
     "execution_count": 8,
     "metadata": {},
     "output_type": "execute_result"
    }
   ],
   "source": [
    "twitterworeplies=twitterdata[~twitterdata.text.str.get(0).isin(['@','.'])]\n",
    "twitterworeplies.head()"
   ]
  },
  {
   "cell_type": "code",
   "execution_count": 9,
   "metadata": {},
   "outputs": [],
   "source": [
    "def remove_url(txt):\n",
    "    \"\"\"Replace URLs found in a text string with nothing \n",
    "    (i.e. it will remove the URL from the string).\n",
    "\n",
    "    Parameters\n",
    "    ----------\n",
    "    txt : string\n",
    "        A text string that you want to parse and remove urls.\n",
    "\n",
    "    Returns\n",
    "    -------\n",
    "    The same txt string with url's removed.\n",
    "    \"\"\"\n",
    "\n",
    "    return \" \".join(re.sub(\"([^0-9A-Za-z \\t])|(\\w+:\\/\\/\\S+)\", \"\", txt).split())"
   ]
  },
  {
   "cell_type": "code",
   "execution_count": 10,
   "metadata": {},
   "outputs": [],
   "source": [
    "all_tweets_no_urls = [remove_url(tweet) for tweet in twitterworeplies['text']]"
   ]
  },
  {
   "cell_type": "code",
   "execution_count": 11,
   "metadata": {},
   "outputs": [],
   "source": [
    "model = Top2Vec(all_tweets_no_urls)"
   ]
  },
  {
   "cell_type": "code",
   "execution_count": 12,
   "metadata": {},
   "outputs": [],
   "source": [
    "model.save(\"top2vecfitbit\")\n",
    "model = Top2Vec.load(\"top2vecfitbit\")"
   ]
  },
  {
   "cell_type": "code",
   "execution_count": 13,
   "metadata": {},
   "outputs": [
    {
     "data": {
      "text/plain": [
       "7"
      ]
     },
     "execution_count": 13,
     "metadata": {},
     "output_type": "execute_result"
    }
   ],
   "source": [
    "model.get_num_topics()"
   ]
  },
  {
   "cell_type": "code",
   "execution_count": 14,
   "metadata": {},
   "outputs": [],
   "source": [
    "topic_sizes, topic_nums = model.get_topic_sizes()"
   ]
  },
  {
   "cell_type": "code",
   "execution_count": 16,
   "metadata": {},
   "outputs": [],
   "source": [
    "topic_words, word_scores, topic_nums = model.get_topics(7)\n"
   ]
  },
  {
   "cell_type": "code",
   "execution_count": 17,
   "metadata": {},
   "outputs": [
    {
     "data": {
      "text/plain": [
       "array([['the', 'health', 'more', 'your', 'step', 'heres', 'out', 'when',\n",
       "        'fitbit', 'you', 'from', 'and', 'have', 'like', 'its', 'to',\n",
       "        'tips', 'do', 'can', 'take', 'with', 'now', 'day', 'this',\n",
       "        'healthy', 'or', 'we', 'of', 'get', 'fitness', 'for', 'one',\n",
       "        'youre', 'time', 'what', 'new', 'by', 'are', 'make', 'all',\n",
       "        'amp', 'just', 'ambassador', 'on', 'sleep', 'at', 'help', 'an',\n",
       "        'about', 'is'],\n",
       "       ['one', 'new', 'rt', 'more', 'sleep', 'fitness', 'goals', 'some',\n",
       "        'to', 'our', 'up', 'the', 'from', 'day', 'for', 'on', 'youre',\n",
       "        'has', 'about', 'in', 'do', 'is', 'these', 'its', 'what', 'get',\n",
       "        'are', 'with', 'your', 'we', 'ambassador', 'how', 'of', 'time',\n",
       "        'an', 'out', 'be', 'you', 'can', 'it', 'help', 'all', 'by',\n",
       "        'way', 'fitbitversa', 'make', 'heart', 'tips', 'this', 'fitbit'],\n",
       "       ['of', 'to', 'more', 'and', 'your', 'an', 'this', 'for', 'fitbit',\n",
       "        'with', 'day', 'have', 'when', 'tips', 'all', 'you', 'is',\n",
       "        'time', 'be', 'about', 'we', 'amp', 'fitness', 'what', 'it',\n",
       "        'our', 'were', 'the', 'do', 'out', 'goals', 'so', 'like',\n",
       "        'healthy', 'that', 'sleep', 'new', 'make', 'are', 'its', 'in',\n",
       "        'step', 'ambassador', 'fitbitversa', 'how', 'just', 'or',\n",
       "        'these', 'from', 'heart'],\n",
       "       ['is', 'to', 'and', 'fitbit', 'our', 'take', 'the', 'step', 'new',\n",
       "        'an', 'about', 'how', 'healthy', 'it', 'now', 'have', 'out',\n",
       "        'heres', 'these', 'amp', 'or', 'sleep', 'on', 'what', 'more',\n",
       "        'can', 'when', 'that', 'just', 'rt', 'way', 'heart', 'day', 'up',\n",
       "        'you', 'some', 'by', 'make', 'youre', 'has', 'of', 'tips', 'be',\n",
       "        'from', 'time', 'this', 'fitness', 'fitbitversa', 'health',\n",
       "        'one'],\n",
       "       ['and', 'sleep', 'you', 'were', 'goals', 'when', 'its',\n",
       "        'ambassador', 'day', 'of', 'one', 'in', 'fitness', 'to', 'heart',\n",
       "        'about', 'take', 'how', 'at', 'step', 'be', 'that', 'help', 'by',\n",
       "        'with', 'the', 'we', 'like', 'your', 'fitbit', 'amp', 'all',\n",
       "        'out', 'can', 'get', 'our', 'new', 'time', 'heres', 'it', 'are',\n",
       "        'do', 'so', 'tips', 'rt', 'on', 'more', 'just', 'fitbitversa',\n",
       "        'up'],\n",
       "       ['that', 'of', 'new', 'amp', 'from', 'about', 'fitness', 'goals',\n",
       "        'we', 'has', 'at', 'the', 'your', 'one', 'time', 'tips', 'what',\n",
       "        'fitbit', 'you', 'this', 'and', 'just', 'in', 'can', 'way', 'by',\n",
       "        'for', 'get', 'some', 'on', 'more', 'sleep', 'step', 'do',\n",
       "        'these', 'how', 'be', 'our', 'with', 'were', 'have', 'help',\n",
       "        'are', 'to', 'rt', 'now', 'heres', 'fitbitversa', 'all', 'its'],\n",
       "       ['at', 'has', 'about', 'now', 'new', 'just', 'youre', 'more',\n",
       "        'are', 'some', 'rt', 'is', 'when', 'how', 'with', 'have', 'amp',\n",
       "        'way', 'our', 'to', 'or', 'healthy', 'heres', 'fitbit', 'so',\n",
       "        'up', 'from', 'by', 'time', 'and', 'we', 'step', 'tips',\n",
       "        'ambassador', 'what', 'the', 'goals', 'help', 'this',\n",
       "        'fitbitversa', 'you', 'make', 'in', 'day', 'for', 'be', 'heart',\n",
       "        'your', 'out', 'an']], dtype='<U11')"
      ]
     },
     "execution_count": 17,
     "metadata": {},
     "output_type": "execute_result"
    }
   ],
   "source": [
    "topic_words"
   ]
  },
  {
   "cell_type": "code",
   "execution_count": 18,
   "metadata": {},
   "outputs": [
    {
     "data": {
      "text/plain": [
       "array([0, 1, 2, 3, 4, 5, 6])"
      ]
     },
     "execution_count": 18,
     "metadata": {},
     "output_type": "execute_result"
    }
   ],
   "source": [
    "topic_nums"
   ]
  },
  {
   "cell_type": "code",
   "execution_count": 19,
   "metadata": {},
   "outputs": [],
   "source": [
    "topic_words, word_scores, topic_scores, topic_nums = model.search_topics(keywords=[\"fitness\"], num_topics=7)\n"
   ]
  },
  {
   "cell_type": "code",
   "execution_count": 20,
   "metadata": {},
   "outputs": [
    {
     "data": {
      "text/plain": [
       "array([ 0.1291,  0.1104,  0.0784,  0.0655,  0.0363,  0.0046, -0.0556])"
      ]
     },
     "execution_count": 20,
     "metadata": {},
     "output_type": "execute_result"
    }
   ],
   "source": [
    "topic_scores"
   ]
  },
  {
   "cell_type": "code",
   "execution_count": 21,
   "metadata": {},
   "outputs": [
    {
     "data": {
      "text/plain": [
       "[array(['one', 'new', 'rt', 'more', 'sleep', 'fitness', 'goals', 'some',\n",
       "        'to', 'our', 'up', 'the', 'from', 'day', 'for', 'on', 'youre',\n",
       "        'has', 'about', 'in', 'do', 'is', 'these', 'its', 'what', 'get',\n",
       "        'are', 'with', 'your', 'we', 'ambassador', 'how', 'of', 'time',\n",
       "        'an', 'out', 'be', 'you', 'can', 'it', 'help', 'all', 'by', 'way',\n",
       "        'fitbitversa', 'make', 'heart', 'tips', 'this', 'fitbit'],\n",
       "       dtype='<U11'),\n",
       " array(['that', 'of', 'new', 'amp', 'from', 'about', 'fitness', 'goals',\n",
       "        'we', 'has', 'at', 'the', 'your', 'one', 'time', 'tips', 'what',\n",
       "        'fitbit', 'you', 'this', 'and', 'just', 'in', 'can', 'way', 'by',\n",
       "        'for', 'get', 'some', 'on', 'more', 'sleep', 'step', 'do', 'these',\n",
       "        'how', 'be', 'our', 'with', 'were', 'have', 'help', 'are', 'to',\n",
       "        'rt', 'now', 'heres', 'fitbitversa', 'all', 'its'], dtype='<U11'),\n",
       " array(['and', 'sleep', 'you', 'were', 'goals', 'when', 'its',\n",
       "        'ambassador', 'day', 'of', 'one', 'in', 'fitness', 'to', 'heart',\n",
       "        'about', 'take', 'how', 'at', 'step', 'be', 'that', 'help', 'by',\n",
       "        'with', 'the', 'we', 'like', 'your', 'fitbit', 'amp', 'all', 'out',\n",
       "        'can', 'get', 'our', 'new', 'time', 'heres', 'it', 'are', 'do',\n",
       "        'so', 'tips', 'rt', 'on', 'more', 'just', 'fitbitversa', 'up'],\n",
       "       dtype='<U11'),\n",
       " array(['of', 'to', 'more', 'and', 'your', 'an', 'this', 'for', 'fitbit',\n",
       "        'with', 'day', 'have', 'when', 'tips', 'all', 'you', 'is', 'time',\n",
       "        'be', 'about', 'we', 'amp', 'fitness', 'what', 'it', 'our', 'were',\n",
       "        'the', 'do', 'out', 'goals', 'so', 'like', 'healthy', 'that',\n",
       "        'sleep', 'new', 'make', 'are', 'its', 'in', 'step', 'ambassador',\n",
       "        'fitbitversa', 'how', 'just', 'or', 'these', 'from', 'heart'],\n",
       "       dtype='<U11'),\n",
       " array(['the', 'health', 'more', 'your', 'step', 'heres', 'out', 'when',\n",
       "        'fitbit', 'you', 'from', 'and', 'have', 'like', 'its', 'to',\n",
       "        'tips', 'do', 'can', 'take', 'with', 'now', 'day', 'this',\n",
       "        'healthy', 'or', 'we', 'of', 'get', 'fitness', 'for', 'one',\n",
       "        'youre', 'time', 'what', 'new', 'by', 'are', 'make', 'all', 'amp',\n",
       "        'just', 'ambassador', 'on', 'sleep', 'at', 'help', 'an', 'about',\n",
       "        'is'], dtype='<U11'),\n",
       " array(['is', 'to', 'and', 'fitbit', 'our', 'take', 'the', 'step', 'new',\n",
       "        'an', 'about', 'how', 'healthy', 'it', 'now', 'have', 'out',\n",
       "        'heres', 'these', 'amp', 'or', 'sleep', 'on', 'what', 'more',\n",
       "        'can', 'when', 'that', 'just', 'rt', 'way', 'heart', 'day', 'up',\n",
       "        'you', 'some', 'by', 'make', 'youre', 'has', 'of', 'tips', 'be',\n",
       "        'from', 'time', 'this', 'fitness', 'fitbitversa', 'health', 'one'],\n",
       "       dtype='<U11'),\n",
       " array(['at', 'has', 'about', 'now', 'new', 'just', 'youre', 'more', 'are',\n",
       "        'some', 'rt', 'is', 'when', 'how', 'with', 'have', 'amp', 'way',\n",
       "        'our', 'to', 'or', 'healthy', 'heres', 'fitbit', 'so', 'up',\n",
       "        'from', 'by', 'time', 'and', 'we', 'step', 'tips', 'ambassador',\n",
       "        'what', 'the', 'goals', 'help', 'this', 'fitbitversa', 'you',\n",
       "        'make', 'in', 'day', 'for', 'be', 'heart', 'your', 'out', 'an'],\n",
       "       dtype='<U11')]"
      ]
     },
     "execution_count": 21,
     "metadata": {},
     "output_type": "execute_result"
    }
   ],
   "source": [
    "topic_words"
   ]
  },
  {
   "cell_type": "code",
   "execution_count": null,
   "metadata": {},
   "outputs": [],
   "source": [
    "topic_words, word_scores, topic_scores, topic_nums = model.search_topics(keywords=[\"fitness\"], num_topics=7)\n",
    "for topic in topic_nums:\n",
    "    model.generate_topic_wordcloud(topic)"
   ]
  },
  {
   "cell_type": "code",
   "execution_count": null,
   "metadata": {},
   "outputs": [],
   "source": [
    "documents, document_scores, document_ids = model.search_documents_by_topic(topic_num=0, num_docs=5)\n"
   ]
  },
  {
   "cell_type": "code",
   "execution_count": null,
   "metadata": {},
   "outputs": [],
   "source": [
    "documents"
   ]
  },
  {
   "cell_type": "code",
   "execution_count": null,
   "metadata": {},
   "outputs": [],
   "source": [
    "document_scores"
   ]
  },
  {
   "cell_type": "code",
   "execution_count": null,
   "metadata": {},
   "outputs": [],
   "source": [
    "documents, document_scores, document_ids = model.search_documents_by_topic(topic_num=0, num_docs=5)\n",
    "for doc, score, doc_id in zip(documents, document_scores, document_ids):\n",
    "    print(f\"Document: {doc_id}, Score: {score}\")\n",
    "    print(\"-----------\")\n",
    "    print(doc)\n",
    "    print(\"-----------\")\n",
    "    print()"
   ]
  },
  {
   "cell_type": "code",
   "execution_count": null,
   "metadata": {},
   "outputs": [],
   "source": [
    "words, word_scores = model.similar_words(keywords=[\"fitness\"], keywords_neg=[], num_words=20)\n",
    "for word, score in zip(words, word_scores):\n",
    "    print(f\"{word} {score}\")"
   ]
  },
  {
   "cell_type": "code",
   "execution_count": null,
   "metadata": {},
   "outputs": [],
   "source": []
  }
 ],
 "metadata": {
  "kernelspec": {
   "display_name": "Python 3",
   "language": "python",
   "name": "python3"
  },
  "language_info": {
   "codemirror_mode": {
    "name": "ipython",
    "version": 3
   },
   "file_extension": ".py",
   "mimetype": "text/x-python",
   "name": "python",
   "nbconvert_exporter": "python",
   "pygments_lexer": "ipython3",
   "version": "3.7.2"
  }
 },
 "nbformat": 4,
 "nbformat_minor": 4
}
